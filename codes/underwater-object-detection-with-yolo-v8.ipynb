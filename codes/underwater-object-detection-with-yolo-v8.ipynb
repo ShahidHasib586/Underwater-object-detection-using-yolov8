{
 "cells": [
  {
   "cell_type": "code",
   "execution_count": 1,
   "metadata": {},
   "outputs": [],
   "source": [
    "# Importing the required libraries\n",
    "import os\n",
    "import random\n",
    "import pandas as pd\n",
    "\n",
    "import cv2\n",
    "import seaborn as sns\n",
    "import matplotlib.pyplot as plt\n",
    "import matplotlib.image as mpimg\n",
    "\n",
    "import torch\n",
    "from ultralytics import YOLO"
   ]
  },
  {
   "cell_type": "code",
   "execution_count": 2,
   "metadata": {},
   "outputs": [],
   "source": [
    "# Define the paths to the images and labels directories\n",
    "train_images = 'C:/Users/Shahid Ahamed Hasib/Downloads/archive/train/images'\n",
    "train_labels = 'C:/Users/Shahid Ahamed Hasib/Downloads/archive/train/labels'\n",
    "\n",
    "val_images = 'C:/Users/Shahid Ahamed Hasib/Downloads/archive/valid/images'\n",
    "val_labels = 'C:/Users/Shahid Ahamed Hasib/Downloads/archive/valid/labels'\n",
    "\n",
    "test_images = 'C:/Users/Shahid Ahamed Hasib/Downloads/archive/test/images'\n",
    "test_labels = 'C:/Users/Shahid Ahamed Hasib/Downloads/archive/test/labels'"
   ]
  },
  {
   "cell_type": "code",
   "execution_count": 3,
   "metadata": {},
   "outputs": [],
   "source": [
    "# Define the path to the yaml data file\n",
    "yaml_path = 'C:/Users/Shahid Ahamed Hasib/Downloads/archive/data.yaml'"
   ]
  },
  {
   "cell_type": "code",
   "execution_count": 4,
   "metadata": {},
   "outputs": [
    {
     "name": "stdout",
     "output_type": "stream",
     "text": [
      "Index to Label Mapping: {0: 'fish', 1: 'jellyfish', 2: 'penguin', 3: 'puffin', 4: 'shark', 5: 'starfish', 6: 'stingray'}\n",
      "Label to Index Mapping: {'fish': 0, 'jellyfish': 1, 'penguin': 2, 'puffin': 3, 'shark': 4, 'starfish': 5, 'stingray': 6}\n"
     ]
    }
   ],
   "source": [
    "# Define the labels\n",
    "classes = ['fish', 'jellyfish', 'penguin', 'puffin', 'shark', 'starfish', 'stingray']\n",
    "Idx2Label = {idx: label for idx, label in enumerate(classes)}\n",
    "Label2Index = {label: idx for idx, label in Idx2Label.items()}\n",
    "print('Index to Label Mapping:', Idx2Label)\n",
    "print('Label to Index Mapping:', Label2Index)"
   ]
  },
  {
   "cell_type": "code",
   "execution_count": 5,
   "metadata": {},
   "outputs": [
    {
     "name": "stdout",
     "output_type": "stream",
     "text": [
      "Figure saved as 'output_image_grid.png'\n"
     ]
    }
   ],
   "source": [
    "def visualize_image_with_annotation_bboxes(image_dir, label_dir):\n",
    "    # Get list of all the image files in the directory\n",
    "    image_files = sorted(os.listdir(image_dir))\n",
    "    \n",
    "    # Choose 10 random image files from the list\n",
    "    sample_image_files = random.sample(image_files, 12)\n",
    "    \n",
    "    # Set up the plot\n",
    "    fig, axs = plt.subplots(4, 3, figsize=(15, 20))\n",
    "    \n",
    "    # Loop over the random images and plot the bounding boxes\n",
    "    for i, image_file in enumerate(sample_image_files):\n",
    "        row = i // 3\n",
    "        col = i % 3\n",
    "        \n",
    "        # Load the image\n",
    "        image_path = os.path.join(image_dir, image_file)\n",
    "        image = cv2.imread(image_path)\n",
    "        image = cv2.cvtColor(image, cv2.COLOR_BGR2RGB)\n",
    "        \n",
    "        # Load the labels for this image\n",
    "        label_path = os.path.join(label_dir, image_file[:-4] + '.txt')\n",
    "        f = open(label_path, 'r')\n",
    "        \n",
    "        # Loop over the labels and plot the bounding boxes\n",
    "        for label in f:\n",
    "            class_id, x_center, y_center, width, height = map(float, label.split())\n",
    "            h, w, _ = image.shape\n",
    "            x_min = int((x_center - width/2) * w)\n",
    "            y_min = int((y_center - height/2) * h)\n",
    "            x_max = int((x_center + width/2) * w)\n",
    "            y_max = int((y_center + height/2) * h)\n",
    "            cv2.rectangle(image, (x_min, y_min), (x_max, y_max), (0, 255, 0), 2)\n",
    "            cv2.putText(image, Idx2Label[int(class_id)], (x_min, y_min), cv2.FONT_HERSHEY_SIMPLEX, fontScale=1, color=(255, 255, 255), thickness=2)\n",
    "    \n",
    "        axs[row, col].imshow(image)\n",
    "        axs[row, col].axis('off')\n",
    "\n",
    "    #plt.show()\n",
    "    plt.savefig('output_image_grid.png')  # Save the figure as an image file\n",
    "    plt.close()  # Close the plot to avoid placeholder output\n",
    "    print(\"Figure saved as 'output_image_grid.png'\")\n",
    "\n",
    "# Visualize 12 sample images with bounding boxes\n",
    "visualize_image_with_annotation_bboxes(train_images, train_labels)"
   ]
  },
  {
   "cell_type": "code",
   "execution_count": null,
   "metadata": {},
   "outputs": [],
   "source": [
    "# Load a YOLOv8 model, for example, the nano version for fast training\n",
    "model = YOLO('yolov8n.pt')  # You can use 'yolov8s.pt', 'yolov8m.pt', etc. for different sizes\n",
    "\n",
    "# Train the model\n",
    "results = model.train(\n",
    "    data='https://drive.google.com/file/d/1obi8sAI8G8UYQhiNIsr4El91ZxOtprlM/view?usp=drive_link',  # Path to the dataset YAML file\n",
    "    epochs=100,                                 # Number of training epochs (adjust as needed)\n",
    "    imgsz=640,                                 # Image size for training (can be adjusted)\n",
    "    lr0=0.01,                                  # Initial learning rate\n",
    "    lrf=1,                                   # Final learning rate (fraction of initial LR)\n",
    "    batch=8,                                   # Batch size (adjust based on your CPU/GPU memory)\n",
    "    device='cpu',                              # Using 'cpu' since CUDA is not available\n",
    "    name='underwater_detection'                # Folder name for saving the model and results\n",
    ")\n",
    "\n",
    "# Extract the mAP score\n",
    "maP_50 = results.metrics['metrics/mAP50(B)']   # mAP@0.5 score\n",
    "print(f\"mAP@0.5: {maP_50:.4f}\")"
   ]
  }
 ],
 "metadata": {
  "kernelspec": {
   "display_name": "Python 3",
   "language": "python",
   "name": "python3"
  },
  "language_info": {
   "codemirror_mode": {
    "name": "ipython",
    "version": 3
   },
   "file_extension": ".py",
   "mimetype": "text/x-python",
   "name": "python",
   "nbconvert_exporter": "python",
   "pygments_lexer": "ipython3",
   "version": "3.12.3"
  }
 },
 "nbformat": 4,
 "nbformat_minor": 2
}
